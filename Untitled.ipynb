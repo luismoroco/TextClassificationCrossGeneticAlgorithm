{
 "cells": [
  {
   "cell_type": "code",
   "execution_count": 1,
   "id": "1e1f60ac",
   "metadata": {},
   "outputs": [],
   "source": [
    "import os\n",
    "import random\n",
    "import numpy as np \n",
    "import pandas as pd\n",
    "import matplotlib as plt\n",
    "\n",
    "from pandas import DataFrame, array\n",
    "from sklearn.svm import SVC\n",
    "from sklearn import metrics\n",
    "from sklearn.pipeline import make_pipeline\n",
    "from sklearn.preprocessing import StandardScaler\n",
    "from sklearn.model_selection import train_test_split\n",
    "from sklearn.model_selection import train_test_split\n",
    "from sklearn.feature_extraction.text import TfidfVectorizer\n",
    "from sklearn.utils import shuffle"
   ]
  },
  {
   "cell_type": "markdown",
   "id": "1629b027",
   "metadata": {},
   "source": [
    "## 1. Lectura de datos"
   ]
  },
  {
   "cell_type": "code",
   "execution_count": 2,
   "id": "2db1dd88",
   "metadata": {},
   "outputs": [
    {
     "data": {
      "text/html": [
       "<div>\n",
       "<style scoped>\n",
       "    .dataframe tbody tr th:only-of-type {\n",
       "        vertical-align: middle;\n",
       "    }\n",
       "\n",
       "    .dataframe tbody tr th {\n",
       "        vertical-align: top;\n",
       "    }\n",
       "\n",
       "    .dataframe thead th {\n",
       "        text-align: right;\n",
       "    }\n",
       "</style>\n",
       "<table border=\"1\" class=\"dataframe\">\n",
       "  <thead>\n",
       "    <tr style=\"text-align: right;\">\n",
       "      <th></th>\n",
       "      <th>review</th>\n",
       "      <th>sentiment</th>\n",
       "    </tr>\n",
       "  </thead>\n",
       "  <tbody>\n",
       "    <tr>\n",
       "      <th>0</th>\n",
       "      <td>One of the other reviewers has mentioned that ...</td>\n",
       "      <td>positive</td>\n",
       "    </tr>\n",
       "    <tr>\n",
       "      <th>1</th>\n",
       "      <td>A wonderful little production. &lt;br /&gt;&lt;br /&gt;The...</td>\n",
       "      <td>positive</td>\n",
       "    </tr>\n",
       "    <tr>\n",
       "      <th>2</th>\n",
       "      <td>I thought this was a wonderful way to spend ti...</td>\n",
       "      <td>positive</td>\n",
       "    </tr>\n",
       "    <tr>\n",
       "      <th>3</th>\n",
       "      <td>Basically there's a family where a little boy ...</td>\n",
       "      <td>negative</td>\n",
       "    </tr>\n",
       "    <tr>\n",
       "      <th>4</th>\n",
       "      <td>Petter Mattei's \"Love in the Time of Money\" is...</td>\n",
       "      <td>positive</td>\n",
       "    </tr>\n",
       "  </tbody>\n",
       "</table>\n",
       "</div>"
      ],
      "text/plain": [
       "                                              review sentiment\n",
       "0  One of the other reviewers has mentioned that ...  positive\n",
       "1  A wonderful little production. <br /><br />The...  positive\n",
       "2  I thought this was a wonderful way to spend ti...  positive\n",
       "3  Basically there's a family where a little boy ...  negative\n",
       "4  Petter Mattei's \"Love in the Time of Money\" is...  positive"
      ]
     },
     "execution_count": 2,
     "metadata": {},
     "output_type": "execute_result"
    }
   ],
   "source": [
    "df_review = pd.read_csv('IMDB Dataset.csv')\n",
    "df_review.head()"
   ]
  },
  {
   "cell_type": "code",
   "execution_count": 40,
   "id": "56c45036",
   "metadata": {},
   "outputs": [
    {
     "data": {
      "text/plain": [
       "positive    25000\n",
       "negative    25000\n",
       "Name: sentiment, dtype: int64"
      ]
     },
     "execution_count": 40,
     "metadata": {},
     "output_type": "execute_result"
    }
   ],
   "source": [
    "df_review['sentiment'].value_counts()"
   ]
  },
  {
   "cell_type": "markdown",
   "id": "e5af30df",
   "metadata": {},
   "source": [
    "1.1 Separación de datos"
   ]
  },
  {
   "cell_type": "code",
   "execution_count": 3,
   "id": "e49aa042",
   "metadata": {},
   "outputs": [],
   "source": [
    "df_positive = df_review.loc[df_review['sentiment'] == 'positive']\n",
    "df_negative = df_review.loc[df_review['sentiment'] == 'negative']\n",
    "\n",
    "df_positive = df_positive[:2000]\n",
    "df_negative = df_negative[:2000]\n",
    "\n",
    "frames = [df_positive, df_negative]\n",
    "df_final = pd.concat(frames)"
   ]
  },
  {
   "cell_type": "code",
   "execution_count": 4,
   "id": "2f5356a2",
   "metadata": {},
   "outputs": [
    {
     "data": {
      "text/html": [
       "<div>\n",
       "<style scoped>\n",
       "    .dataframe tbody tr th:only-of-type {\n",
       "        vertical-align: middle;\n",
       "    }\n",
       "\n",
       "    .dataframe tbody tr th {\n",
       "        vertical-align: top;\n",
       "    }\n",
       "\n",
       "    .dataframe thead th {\n",
       "        text-align: right;\n",
       "    }\n",
       "</style>\n",
       "<table border=\"1\" class=\"dataframe\">\n",
       "  <thead>\n",
       "    <tr style=\"text-align: right;\">\n",
       "      <th></th>\n",
       "      <th>review</th>\n",
       "      <th>sentiment</th>\n",
       "    </tr>\n",
       "  </thead>\n",
       "  <tbody>\n",
       "    <tr>\n",
       "      <th>0</th>\n",
       "      <td>One of the other reviewers has mentioned that ...</td>\n",
       "      <td>positive</td>\n",
       "    </tr>\n",
       "    <tr>\n",
       "      <th>1</th>\n",
       "      <td>A wonderful little production. &lt;br /&gt;&lt;br /&gt;The...</td>\n",
       "      <td>positive</td>\n",
       "    </tr>\n",
       "    <tr>\n",
       "      <th>2</th>\n",
       "      <td>I thought this was a wonderful way to spend ti...</td>\n",
       "      <td>positive</td>\n",
       "    </tr>\n",
       "    <tr>\n",
       "      <th>4</th>\n",
       "      <td>Petter Mattei's \"Love in the Time of Money\" is...</td>\n",
       "      <td>positive</td>\n",
       "    </tr>\n",
       "    <tr>\n",
       "      <th>5</th>\n",
       "      <td>Probably my all-time favorite movie, a story o...</td>\n",
       "      <td>positive</td>\n",
       "    </tr>\n",
       "  </tbody>\n",
       "</table>\n",
       "</div>"
      ],
      "text/plain": [
       "                                              review sentiment\n",
       "0  One of the other reviewers has mentioned that ...  positive\n",
       "1  A wonderful little production. <br /><br />The...  positive\n",
       "2  I thought this was a wonderful way to spend ti...  positive\n",
       "4  Petter Mattei's \"Love in the Time of Money\" is...  positive\n",
       "5  Probably my all-time favorite movie, a story o...  positive"
      ]
     },
     "execution_count": 4,
     "metadata": {},
     "output_type": "execute_result"
    }
   ],
   "source": [
    "X = df_final['review']\n",
    "y = df_final['sentiment']\n",
    "\n",
    "df_final.head()"
   ]
  },
  {
   "cell_type": "markdown",
   "id": "dd1cbed3",
   "metadata": {},
   "source": [
    "Mezclamos el DataFrame"
   ]
  },
  {
   "cell_type": "code",
   "execution_count": 5,
   "id": "980ee45d",
   "metadata": {},
   "outputs": [
    {
     "data": {
      "text/html": [
       "<div>\n",
       "<style scoped>\n",
       "    .dataframe tbody tr th:only-of-type {\n",
       "        vertical-align: middle;\n",
       "    }\n",
       "\n",
       "    .dataframe tbody tr th {\n",
       "        vertical-align: top;\n",
       "    }\n",
       "\n",
       "    .dataframe thead th {\n",
       "        text-align: right;\n",
       "    }\n",
       "</style>\n",
       "<table border=\"1\" class=\"dataframe\">\n",
       "  <thead>\n",
       "    <tr style=\"text-align: right;\">\n",
       "      <th></th>\n",
       "      <th>review</th>\n",
       "      <th>sentiment</th>\n",
       "    </tr>\n",
       "  </thead>\n",
       "  <tbody>\n",
       "    <tr>\n",
       "      <th>0</th>\n",
       "      <td>A pity, nobody seems to know this little thril...</td>\n",
       "      <td>positive</td>\n",
       "    </tr>\n",
       "    <tr>\n",
       "      <th>1</th>\n",
       "      <td>This movie is lame and not funny at all. The p...</td>\n",
       "      <td>negative</td>\n",
       "    </tr>\n",
       "    <tr>\n",
       "      <th>2</th>\n",
       "      <td>This is one of those films that explore the cu...</td>\n",
       "      <td>positive</td>\n",
       "    </tr>\n",
       "    <tr>\n",
       "      <th>3</th>\n",
       "      <td>Perfect movies are rare. Even my favorite film...</td>\n",
       "      <td>positive</td>\n",
       "    </tr>\n",
       "    <tr>\n",
       "      <th>4</th>\n",
       "      <td>I was a 20 year old college student living wit...</td>\n",
       "      <td>positive</td>\n",
       "    </tr>\n",
       "  </tbody>\n",
       "</table>\n",
       "</div>"
      ],
      "text/plain": [
       "                                              review sentiment\n",
       "0  A pity, nobody seems to know this little thril...  positive\n",
       "1  This movie is lame and not funny at all. The p...  negative\n",
       "2  This is one of those films that explore the cu...  positive\n",
       "3  Perfect movies are rare. Even my favorite film...  positive\n",
       "4  I was a 20 year old college student living wit...  positive"
      ]
     },
     "execution_count": 5,
     "metadata": {},
     "output_type": "execute_result"
    }
   ],
   "source": [
    "df_final = df_final.sample(frac=1).reset_index(drop=True)\n",
    "\n",
    "df_final.head()"
   ]
  },
  {
   "cell_type": "markdown",
   "id": "d07f24e0",
   "metadata": {},
   "source": [
    "## 2. Vectores de Características"
   ]
  },
  {
   "cell_type": "markdown",
   "id": "379e580a",
   "metadata": {},
   "source": [
    "2.1 Parámetros iniciales para SVC"
   ]
  },
  {
   "cell_type": "code",
   "execution_count": 6,
   "id": "c82b2499",
   "metadata": {},
   "outputs": [],
   "source": [
    "regularization: array = [1, 4, 8, 16, 32, 64, 128, 256]\n",
    "kernel: array = ['linear', 'rbf', 'poly', 'sigmoid']\n",
    "degree: array = [1, 2, 3, 4, 5, 6, 7, 8, 9, 10, 11, 12]\n",
    "gama: array = ['scale', 'auto']\n",
    "probability: array = [True, False] "
   ]
  },
  {
   "cell_type": "markdown",
   "id": "be901521",
   "metadata": {},
   "source": [
    "2.2 Parámetros iniciales para la selección de datos"
   ]
  },
  {
   "cell_type": "code",
   "execution_count": 7,
   "id": "9440bba3",
   "metadata": {},
   "outputs": [],
   "source": [
    "test_size: array = [0.15, 0.16, 0.17, 0.18, 0.19, 0.2, 0.21, 0.22, 0.23, 0.24, 0.25, 0.26, 0.27, 0.28, 0.29, 0.30, 0.31, 0.32, 0.33, 0.34]\n",
    "random_state: array = list(range(1, 120))\n",
    "sufffle: array = [True, False]"
   ]
  },
  {
   "cell_type": "markdown",
   "id": "b112f253",
   "metadata": {},
   "source": [
    "## 3. El Algoritmo Genético"
   ]
  },
  {
   "cell_type": "markdown",
   "id": "4bb95ab8",
   "metadata": {},
   "source": [
    "3.1 Funciones generadoras de configuraciones"
   ]
  },
  {
   "cell_type": "code",
   "execution_count": 8,
   "id": "5eb619a4",
   "metadata": {},
   "outputs": [],
   "source": [
    "def generateConfigForSVC() -> object:\n",
    "  return {\n",
    "    'C': random.choice(regularization), 'kernel': random.choice(kernel),\n",
    "    'degree': random.choice(degree), 'gamma': random.choice(gama),\n",
    "    'probability': random.choice(probability)\n",
    "  }\n",
    "\n",
    "def generateConfigForSplitData() -> object:\n",
    "  return {\n",
    "    'test_size': random.choice(test_size), 'random_state': random.choice(random_state),\n",
    "    'shuffle': random.choice(sufffle)\n",
    "  }\n",
    "\n",
    "def generateChildrenConfig(hiper: list) -> object:\n",
    "  return {\n",
    "    'C': hiper[0], 'kernel': hiper[1],\n",
    "    'degree': hiper[2], 'gamma': hiper[3],\n",
    "    'probability': hiper[4]\n",
    "  }\n",
    "def generateChildrenConfigSplit(hiper: list) -> object:\n",
    "  return {\n",
    "    'test_size': hiper[0], 'random_state': hiper[1],\n",
    "    'shuffle': hiper[2]\n",
    "  }"
   ]
  },
  {
   "cell_type": "markdown",
   "id": "98b3040d",
   "metadata": {},
   "source": [
    "3.2 El individuo"
   ]
  },
  {
   "cell_type": "code",
   "execution_count": 9,
   "id": "f346363b",
   "metadata": {},
   "outputs": [],
   "source": [
    "class IndiviudalSVCConfig:\n",
    "  fitness: float \n",
    "  config: object\n",
    "  configSplit: object\n",
    "\n",
    "  def __init__(self, f: float, conf: object, split: object) -> None:\n",
    "    self.fitness = f\n",
    "    self.config = conf\n",
    "    self.configSplit = split\n",
    "\n",
    "  def getFitness(self) -> float:\n",
    "    return float(self.fitness)\n",
    "\n",
    "  def getConfig(self) -> object:\n",
    "    return (self.config)\n",
    "  \n",
    "  def setFitness(self, fit: float) -> None:\n",
    "    self.fitness = fit\n",
    "\n",
    "  def getConfigSplit(self) -> object:\n",
    "    return (self.configSplit) \n",
    "\n",
    "  def setConfigSplit(self, split: object) -> None:\n",
    "    self.configSplit = split "
   ]
  },
  {
   "cell_type": "markdown",
   "id": "880275dd",
   "metadata": {},
   "source": [
    "3.3 Inciación de la Población"
   ]
  },
  {
   "cell_type": "code",
   "execution_count": 10,
   "id": "93592506",
   "metadata": {},
   "outputs": [],
   "source": [
    "def generatePopulation(nPop: int) -> list:\n",
    "  population: list = []\n",
    "  print(f'Generando una Población de {nPop} individuos')\n",
    "  \n",
    "  config: object\n",
    "  splitConf: object\n",
    "  fitnessDefault: float = 0\n",
    "  \n",
    "  for _ in range(int(nPop)):\n",
    "    config = generateConfigForSVC()\n",
    "    splitConf = generateConfigForSplitData()\n",
    "    individuo: IndiviudalSVCConfig = IndiviudalSVCConfig(\n",
    "      f = fitnessDefault, conf = config, split = splitConf\n",
    "    )\n",
    "    population.append(individuo)\n",
    "\n",
    "  return population"
   ]
  },
  {
   "cell_type": "markdown",
   "id": "7a5c9b4c",
   "metadata": {},
   "source": [
    "3.4 La Reproducción"
   ]
  },
  {
   "cell_type": "code",
   "execution_count": 11,
   "id": "b9ad9c16",
   "metadata": {},
   "outputs": [],
   "source": [
    "def crossoverForIndivudualConfigSVC(fath: IndiviudalSVCConfig, moth: IndiviudalSVCConfig) -> IndiviudalSVCConfig:\n",
    "    fathConf: list = list(fath.getConfig().values())\n",
    "    mothConf: list = list(moth.getConfig().values())\n",
    "    pointCrossover: int = random.randint(0, len(fathConf)-1)\n",
    "    \n",
    "    fsplit: list = list(fath.getConfigSplit().values())\n",
    "    msplit: list = list(moth.getConfigSplit().values())\n",
    "\n",
    "    for index in range(pointCrossover, len(fathConf)):\n",
    "        fathConf[index] = mothConf[index]\n",
    "    \n",
    "    for index in range(pointCrossover, len(fsplit)):\n",
    "        fsplit[index] = msplit[index]\n",
    "    \n",
    "  \n",
    "    newConf: object = generateChildrenConfig(fathConf)\n",
    "    newCOnfSplit: object = generateChildrenConfigSplit(fsplit)\n",
    "    \n",
    "    fitnessDefault: float = 0\n",
    "    \n",
    "    children: IndiviudalSVCConfig = IndiviudalSVCConfig(\n",
    "      f = fitnessDefault, conf = newConf, split = newCOnfSplit\n",
    "    ) \n",
    "  \n",
    "    return children"
   ]
  },
  {
   "cell_type": "markdown",
   "id": "209f8f62",
   "metadata": {},
   "source": [
    "3.5 La mutación "
   ]
  },
  {
   "cell_type": "code",
   "execution_count": 12,
   "id": "e998c382",
   "metadata": {},
   "outputs": [],
   "source": [
    "def mutationForIndivudualConfigSVC(indiConf: IndiviudalSVCConfig) -> IndiviudalSVCConfig: \n",
    "    \n",
    "  pass"
   ]
  },
  {
   "cell_type": "markdown",
   "id": "d656fc4c",
   "metadata": {},
   "source": [
    "3.6 La selección "
   ]
  },
  {
   "cell_type": "code",
   "execution_count": 90,
   "id": "099c25a4",
   "metadata": {},
   "outputs": [
    {
     "ename": "SyntaxError",
     "evalue": "invalid syntax (2014331450.py, line 9)",
     "output_type": "error",
     "traceback": [
      "\u001b[0;36m  Input \u001b[0;32mIn [90]\u001b[0;36m\u001b[0m\n\u001b[0;31m    else\u001b[0m\n\u001b[0m         ^\u001b[0m\n\u001b[0;31mSyntaxError\u001b[0m\u001b[0;31m:\u001b[0m invalid syntax\n"
     ]
    }
   ],
   "source": [
    "def search(list_prob: list, numforsearch) -> int:\n",
    "    piso: int = 0\n",
    "    techo: int = len(list_prob)-1\n",
    "    itera: int = 0 \n",
    "    \n",
    "    while True:\n",
    "        if piso <= numforsearch <= techo:\n",
    "            break\n",
    "        else \n",
    "            itera += 1\n",
    "    \n",
    "    x = 0\n",
    "    y = 0\n",
    "    itera = 0\n",
    "    while y < len(list_prob):\n",
    "        if list_prob[x] <= numforsearch <= list_prob[y]:\n",
    "            break\n",
    "        else :\n",
    "            x += 1 \n",
    "            \n",
    "    \n",
    "    return itera\n",
    "        \n",
    "            \n",
    "        "
   ]
  },
  {
   "cell_type": "code",
   "execution_count": 89,
   "id": "16fd5c98",
   "metadata": {},
   "outputs": [
    {
     "ename": "IndentationError",
     "evalue": "expected an indented block (1924890373.py, line 18)",
     "output_type": "error",
     "traceback": [
      "\u001b[0;36m  Input \u001b[0;32mIn [89]\u001b[0;36m\u001b[0m\n\u001b[0;31m    pass\u001b[0m\n\u001b[0m    ^\u001b[0m\n\u001b[0;31mIndentationError\u001b[0m\u001b[0;31m:\u001b[0m expected an indented block\n"
     ]
    }
   ],
   "source": [
    "def selectBestIndividualsMaxtoMinFitness(population: list, numIndiPadres: int) -> list:\n",
    "    sum_fitness: float = 0\n",
    "    for it in population:\n",
    "        sum_fitness += it.getFitness()\n",
    "    \n",
    "    list_proba: list = [None] * len(population)\n",
    "    for i in range(len(population)):\n",
    "        list_proba[i] = population[i].getFitness()/sum_fitness\n",
    "    \n",
    "    distancia: float = 1.0/numIndiPadres\n",
    "        \n",
    "    res: list = []\n",
    "    \n",
    "    start = 0;\n",
    "    end = distancia \n",
    "    while len(res) < numIndiPadres:"
   ]
  },
  {
   "cell_type": "code",
   "execution_count": 13,
   "id": "75e4e2fb",
   "metadata": {},
   "outputs": [],
   "source": [
    "def temp_selection(population: list) -> list:\n",
    "    population.sort(key = lambda fit: fit.fitness, reverse = True)\n",
    "    rest = population[:4]\n",
    "    return rest"
   ]
  },
  {
   "cell_type": "markdown",
   "id": "4408de4c",
   "metadata": {},
   "source": [
    "3.7 La Evaluación"
   ]
  },
  {
   "cell_type": "code",
   "execution_count": 14,
   "id": "be14f3c4",
   "metadata": {},
   "outputs": [],
   "source": [
    "def evaluatePopulation(populat: list) -> None:\n",
    "  print(f'Evaluando a los individuos tamaño {len(populat)}')\n",
    "  \n",
    "  count: int = 0\n",
    "  xConf: object \n",
    "  splitC: object\n",
    "  \n",
    "  for indi in populat:\n",
    "    print(f'Evaluando individuo {count}')\n",
    "    xConf = indi.getConfig() \n",
    "    splitC = indi.getConfigSplit()\n",
    "    \n",
    "    X_train, X_test, y_train, y_test = train_test_split(X, y, **splitC) \n",
    "\n",
    "    tfid = TfidfVectorizer(stop_words = 'english')\n",
    "    X_train = tfid.fit_transform(X_train)\n",
    "    X_test = tfid.transform(X_test)\n",
    "    \n",
    "    svc = SVC(**xConf)\n",
    "    svc.fit(X_train, y_train)\n",
    "    predicted = svc.predict(X_test)\n",
    "    indi.setFitness(getAccuracyForModel(y_test = y_test, y_pred = predicted))\n",
    "    count += 1"
   ]
  },
  {
   "cell_type": "markdown",
   "id": "58a1ed5b",
   "metadata": {},
   "source": [
    "## 4. Clasificación por Vectores de Soporte (SVC)"
   ]
  },
  {
   "cell_type": "markdown",
   "id": "2ae8646e",
   "metadata": {},
   "source": [
    "4.1 Funciones de obtención de métricas - Accuracy"
   ]
  },
  {
   "cell_type": "code",
   "execution_count": 15,
   "id": "2e112163",
   "metadata": {},
   "outputs": [],
   "source": [
    "def getAccuracyForModel(y_test: np.ndarray, y_pred: np.ndarray) -> float:\n",
    "  return float(metrics.accuracy_score(y_test, y_pred))"
   ]
  },
  {
   "cell_type": "markdown",
   "id": "a99f88ee",
   "metadata": {},
   "source": [
    "## 5. Setup"
   ]
  },
  {
   "cell_type": "code",
   "execution_count": 16,
   "id": "d15a4f69",
   "metadata": {},
   "outputs": [],
   "source": [
    "def geneticAlgorithmInit(nPop: int, epochs: int) -> IndiviudalSVCConfig:\n",
    "    population: list = generatePopulation(nPop)\n",
    "        \n",
    "    for i in range(epochs):\n",
    "        print(f'EPOOOOCA ------------- {i} \\n')\n",
    "        evaluatePopulation(population)\n",
    "        candidates = temp_selection(population)\n",
    "        count: int = 0\n",
    "        for c in candidates:\n",
    "            print(f'Individuo {count} : Fitness = {c.getFitness()}')\n",
    "            count += 1\n",
    "        print('Cruzando individuos\\n')\n",
    "        pos = 0\n",
    "        while pos < len(population):\n",
    "            proba = random.random()\n",
    "            if proba < 0.8:\n",
    "                f = random.choice(candidates)\n",
    "                m = random.choice(candidates)\n",
    "                population[pos] = crossoverForIndivudualConfigSVC(f, m)\n",
    "                pos += 1\n",
    "            else:\n",
    "                pass\n",
    "            \n",
    "    return population[0]"
   ]
  },
  {
   "cell_type": "code",
   "execution_count": 17,
   "id": "f31327c3",
   "metadata": {},
   "outputs": [
    {
     "name": "stdout",
     "output_type": "stream",
     "text": [
      "Generando una Población de 10 individuos\n",
      "EPOOOOCA ------------- 0 \n",
      "\n",
      "Evaluando a los individuos tamaño 10\n",
      "Evaluando individuo 0\n",
      "Evaluando individuo 1\n",
      "Evaluando individuo 2\n",
      "Evaluando individuo 3\n",
      "Evaluando individuo 4\n",
      "Evaluando individuo 5\n",
      "Evaluando individuo 6\n",
      "Evaluando individuo 7\n",
      "Evaluando individuo 8\n",
      "Evaluando individuo 9\n",
      "Individuo 0 : Fitness = 0.855\n",
      "Individuo 1 : Fitness = 0.85\n",
      "Individuo 2 : Fitness = 0.4967741935483871\n",
      "Individuo 3 : Fitness = 0.30434782608695654\n",
      "Cruzando individuos\n",
      "\n",
      "EPOOOOCA ------------- 1 \n",
      "\n",
      "Evaluando a los individuos tamaño 10\n",
      "Evaluando individuo 0\n",
      "Evaluando individuo 1\n",
      "Evaluando individuo 2\n",
      "Evaluando individuo 3\n",
      "Evaluando individuo 4\n",
      "Evaluando individuo 5\n",
      "Evaluando individuo 6\n",
      "Evaluando individuo 7\n",
      "Evaluando individuo 8\n",
      "Evaluando individuo 9\n",
      "Individuo 0 : Fitness = 0.855\n",
      "Individuo 1 : Fitness = 0.855\n",
      "Individuo 2 : Fitness = 0.85\n",
      "Individuo 3 : Fitness = 0.85\n",
      "Cruzando individuos\n",
      "\n",
      "EPOOOOCA ------------- 2 \n",
      "\n",
      "Evaluando a los individuos tamaño 10\n",
      "Evaluando individuo 0\n",
      "Evaluando individuo 1\n",
      "Evaluando individuo 2\n",
      "Evaluando individuo 3\n",
      "Evaluando individuo 4\n",
      "Evaluando individuo 5\n",
      "Evaluando individuo 6\n",
      "Evaluando individuo 7\n",
      "Evaluando individuo 8\n",
      "Evaluando individuo 9\n",
      "Individuo 0 : Fitness = 0.8638888888888889\n",
      "Individuo 1 : Fitness = 0.8638888888888889\n",
      "Individuo 2 : Fitness = 0.8638888888888889\n",
      "Individuo 3 : Fitness = 0.855\n",
      "Cruzando individuos\n",
      "\n",
      "EPOOOOCA ------------- 3 \n",
      "\n",
      "Evaluando a los individuos tamaño 10\n",
      "Evaluando individuo 0\n",
      "Evaluando individuo 1\n",
      "Evaluando individuo 2\n",
      "Evaluando individuo 3\n",
      "Evaluando individuo 4\n",
      "Evaluando individuo 5\n",
      "Evaluando individuo 6\n",
      "Evaluando individuo 7\n",
      "Evaluando individuo 8\n",
      "Evaluando individuo 9\n",
      "Individuo 0 : Fitness = 0.8638888888888889\n",
      "Individuo 1 : Fitness = 0.8638888888888889\n",
      "Individuo 2 : Fitness = 0.8638888888888889\n",
      "Individuo 3 : Fitness = 0.8638888888888889\n",
      "Cruzando individuos\n",
      "\n",
      "Config: {'C': 16, 'kernel': 'linear', 'degree': 1, 'gamma': 'scale', 'probability': False}\n",
      "Split: {'test_size': 0.18, 'random_state': 47, 'shuffle': True}\n"
     ]
    }
   ],
   "source": [
    "config = geneticAlgorithmInit(10, 4)\n",
    "fin_conf = config.getConfig()\n",
    "fin_spli = config.getConfigSplit()\n",
    "\n",
    "print(f'Config: {fin_conf}')\n",
    "print(f'Split: {fin_spli}')"
   ]
  },
  {
   "cell_type": "markdown",
   "id": "ceaa06e9",
   "metadata": {},
   "source": [
    "DEFECTO"
   ]
  },
  {
   "cell_type": "code",
   "execution_count": 18,
   "id": "d6966af0",
   "metadata": {},
   "outputs": [
    {
     "name": "stdout",
     "output_type": "stream",
     "text": [
      "Executing SVC Defecto\n",
      "['positive']\n",
      "0.85\n"
     ]
    }
   ],
   "source": [
    "X_train, X_test, y_train, y_test = train_test_split(X, y, test_size = 0.3)\n",
    "\n",
    "tfid = TfidfVectorizer(stop_words = 'english')\n",
    "\n",
    "X_train = tfid.fit_transform(X_train)\n",
    "X_test = tfid.transform(X_test)\n",
    "\n",
    "from sklearn.svm import SVC\n",
    "\n",
    "print(f'Executing SVC Defecto')\n",
    "\n",
    "svc = SVC()\n",
    "svc.fit(X_train, y_train)\n",
    "\n",
    "print(svc.predict(tfid.transform(['An excellent movie'])))\n",
    "\n",
    "print(svc.score(X_test, y_test))"
   ]
  },
  {
   "cell_type": "code",
   "execution_count": 22,
   "id": "9330d875",
   "metadata": {},
   "outputs": [
    {
     "name": "stdout",
     "output_type": "stream",
     "text": [
      "Executing SVC Defecto\n",
      "['positive']\n",
      "0.8558333333333333\n"
     ]
    }
   ],
   "source": [
    "X_train, X_test, y_train, y_test = train_test_split(X, y, test_size= 0.3)\n",
    "\n",
    "tfid = TfidfVectorizer(stop_words = 'english')\n",
    "\n",
    "X_train = tfid.fit_transform(X_train)\n",
    "X_test = tfid.transform(X_test)\n",
    "\n",
    "from sklearn.svm import SVC\n",
    "\n",
    "print(f'Executing SVC Defecto')\n",
    "\n",
    "svc = SVC(**fin_conf)\n",
    "svc.fit(X_train, y_train)\n",
    "\n",
    "print(svc.predict(tfid.transform(['An excellent movie'])))\n",
    "print(svc.score(X_test, y_test))"
   ]
  }
 ],
 "metadata": {
  "kernelspec": {
   "display_name": "Python 3 (ipykernel)",
   "language": "python",
   "name": "python3"
  },
  "language_info": {
   "codemirror_mode": {
    "name": "ipython",
    "version": 3
   },
   "file_extension": ".py",
   "mimetype": "text/x-python",
   "name": "python",
   "nbconvert_exporter": "python",
   "pygments_lexer": "ipython3",
   "version": "3.8.10"
  }
 },
 "nbformat": 4,
 "nbformat_minor": 5
}
